{
 "cells": [
  {
   "cell_type": "code",
   "execution_count": 6,
   "metadata": {},
   "outputs": [],
   "source": [
    "import file_tool as ft\n",
    "import numpy as np\n",
    "import preprocessing as pp\n",
    "import os"
   ]
  },
  {
   "cell_type": "code",
   "execution_count": 24,
   "metadata": {},
   "outputs": [],
   "source": [
    "path = r'D:\\20230816\\数据汇总\\nist样品'\n",
    "list = os.listdir(path)\n",
    "csv_list = []"
   ]
  },
  {
   "cell_type": "code",
   "execution_count": 27,
   "metadata": {},
   "outputs": [
    {
     "name": "stdout",
     "output_type": "stream",
     "text": [
      "[array(True), array(True), array(True), array(True), array(True), array(True), array(True), array(False), '1.csv']\n",
      "[array(True), array(True), array(True), array(True), array(True), array(True), array(True), array(False), '1.csv', '11.csv']\n",
      "[array(True), array(True), array(True), array(True), array(True), array(True), array(True), array(False), '1.csv', '11.csv', '2.csv']\n",
      "[array(True), array(True), array(True), array(True), array(True), array(True), array(True), array(False), '1.csv', '11.csv', '2.csv', '3.csv']\n",
      "[array(True), array(True), array(True), array(True), array(True), array(True), array(True), array(False), '1.csv', '11.csv', '2.csv', '3.csv', '4.csv']\n",
      "[array(True), array(True), array(True), array(True), array(True), array(True), array(True), array(False), '1.csv', '11.csv', '2.csv', '3.csv', '4.csv', '5.csv']\n",
      "[array(True), array(True), array(True), array(True), array(True), array(True), array(True), array(False), '1.csv', '11.csv', '2.csv', '3.csv', '4.csv', '5.csv', '6.csv']\n",
      "[array(True), array(True), array(True), array(True), array(True), array(True), array(True), array(False), '1.csv', '11.csv', '2.csv', '3.csv', '4.csv', '5.csv', '6.csv']\n"
     ]
    }
   ],
   "source": [
    "for name in list:\n",
    "    if np.isin(name.endswith(\".csv\"),1):\n",
    "        csv_list.append(name)\n",
    "    "
   ]
  },
  {
   "cell_type": "code",
   "execution_count": 5,
   "metadata": {},
   "outputs": [
    {
     "name": "stdout",
     "output_type": "stream",
     "text": [
      "D:\\20230816\\数据汇总\\新LTB\\ave\\11_ave.csv\n",
      "D:\\20230816\\数据汇总\\新LTB\\ave\\1_ave.csv\n",
      "D:\\20230816\\数据汇总\\新LTB\\ave\\2_ave.csv\n",
      "D:\\20230816\\数据汇总\\新LTB\\ave\\3_ave.csv\n",
      "D:\\20230816\\数据汇总\\新LTB\\ave\\4_ave.csv\n",
      "D:\\20230816\\数据汇总\\新LTB\\ave\\5_ave.csv\n",
      "D:\\20230816\\数据汇总\\新LTB\\ave\\6_ave.csv\n"
     ]
    }
   ],
   "source": [
    "for name in list:\n",
    "    print(path + '\\\\' + name)\n",
    "    WL1,SP1 = ft.Load_MultiSpec(path + '\\\\' + name)\n",
    "    #replace nan\n",
    "    SP1 = SP1[1:].astype(float)\n",
    "    SP1[np.isnan(SP1)] = 0"
   ]
  },
  {
   "cell_type": "code",
   "execution_count": 50,
   "metadata": {},
   "outputs": [],
   "source": [
    "    for i in range(len(SP1[0][:])):\n",
    "        sp2 = SP1[:,i:i+1]\n",
    "        sp2 = pp.Normalization(sp2,method='total_intensity')\n",
    "        if i == 0:\n",
    "            All_Spec = sp2    \n",
    "        else:\n",
    "            All_Spec = np.hstack((All_Spec,sp2))"
   ]
  },
  {
   "cell_type": "code",
   "execution_count": 75,
   "metadata": {},
   "outputs": [],
   "source": [
    "    WL1 = (np.array([WL1[1:]]).T).astype(float)"
   ]
  },
  {
   "cell_type": "code",
   "execution_count": 76,
   "metadata": {},
   "outputs": [],
   "source": [
    "    np.savetxt(path +'\\\\'+'normalized.txt',np.hstack((WL1,All_Spec)),delimiter=',')\n"
   ]
  },
  {
   "cell_type": "code",
   "execution_count": 63,
   "metadata": {},
   "outputs": [],
   "source": []
  }
 ],
 "metadata": {
  "kernelspec": {
   "display_name": "ten",
   "language": "python",
   "name": "python3"
  },
  "language_info": {
   "codemirror_mode": {
    "name": "ipython",
    "version": 3
   },
   "file_extension": ".py",
   "mimetype": "text/x-python",
   "name": "python",
   "nbconvert_exporter": "python",
   "pygments_lexer": "ipython3",
   "version": "3.10.12"
  },
  "orig_nbformat": 4
 },
 "nbformat": 4,
 "nbformat_minor": 2
}
