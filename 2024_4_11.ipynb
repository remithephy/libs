{
 "cells": [
  {
   "cell_type": "code",
   "execution_count": 35,
   "metadata": {},
   "outputs": [],
   "source": [
    "import preprocessing as pp\n",
    "import os\n",
    "import pandas as pd\n",
    "import file_tool as ft\n",
    "import numpy as np\n",
    "\n",
    "\n",
    "path = r'D:\\20240412\\nm\\raw'\n",
    "wl_path = r'D:\\20240412\\wl.csv'\n",
    "path_list = ft.find_file(path,'.csv')\n",
    "\n",
    "filename = [os.path.basename(path_list[i])[:-4] for i in range(len(path_list))]####保留文件名\n",
    "\n",
    "RSD = []\n",
    "for paths in path_list:\n",
    "    raw_feat = pd.read_csv(paths,header=None).values.astype(np.float32)\n",
    "    raw_feat = raw_feat[:,1:]\n",
    "    raw_wl = pd.read_csv(wl_path,header=None).values.astype(np.float32)\n",
    "    select_wl = np.where(np.isin(raw_wl,852.075))[0]\n",
    "    RSD.append(pp.RSD_calculate(raw_feat[select_wl,:].T,len(raw_feat[select_wl,:].T)))\n",
    "\n",
    "np.savetxt(path + '\\\\' + 'RSD.csv',np.vstack((RSD,filename)),delimiter=',',fmt = '%s')"
   ]
  }
 ],
 "metadata": {
  "kernelspec": {
   "display_name": "ten",
   "language": "python",
   "name": "python3"
  },
  "language_info": {
   "codemirror_mode": {
    "name": "ipython",
    "version": 3
   },
   "file_extension": ".py",
   "mimetype": "text/x-python",
   "name": "python",
   "nbconvert_exporter": "python",
   "pygments_lexer": "ipython3",
   "version": "3.10.12"
  }
 },
 "nbformat": 4,
 "nbformat_minor": 2
}
