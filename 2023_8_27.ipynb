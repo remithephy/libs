{
 "cells": [
  {
   "cell_type": "code",
   "execution_count": 11,
   "metadata": {},
   "outputs": [],
   "source": [
    "'''\n",
    ":@Author: Remi\n",
    ":@Date: 2023/8/16 13:29:14\n",
    ":@LastEditors: Remi\n",
    ":@LastEditTime: 2023/8/16 13:29:14\n",
    ":Description: \n",
    "'''\n",
    "import file_tool as ft\n",
    "import numpy as np\n",
    "import os\n",
    "dirpath = r'D:\\20230816\\数据汇总\\新LTB\\origin\\sliced\\1.csv_sliced.csv'\n",
    "name_list=[]\n",
    "#路径和名字\n",
    "wl,spec = ft.Load_MultiSpec(dirpath)\n",
    "\n"
   ]
  },
  {
   "cell_type": "code",
   "execution_count": null,
   "metadata": {},
   "outputs": [],
   "source": [
    "#for i in range(len(name_list)):\n",
    "#    np.savetxt(name_list[i] +'\\\\'+mylist[i]+'.csv',np.hstack((np.array(([samples[i][1]])).T,samples[i][2])),delimiter=',',fmt='%.06f')\n",
    "#求均值\n",
    "#for i in range(len(name_list)):\n",
    "#    np.savetxt(name_list[i] +'\\\\'+mylist[i]+'.csv',np.hstack((np.array(([np.mean(samples[i][2],axis=1)])).T,np.hstack((np.array(([samples[i][1]])).T,samples[i][2])))),delimiter=',',fmt='%.06f')    \n",
    "#只求均值\n",
    "np.savetxt(dirpath + '_ave.csv',np.hstack((wl,np.mean(spec,axis = 1))),delimiter=',',fmt='%.06f')"
   ]
  },
  {
   "cell_type": "code",
   "execution_count": 2,
   "metadata": {},
   "outputs": [],
   "source": [
    "path = r'D:\\20230816\\数据汇总\\新LTB\\ave\\1_ave.csv'\n",
    "x,y = ft.Load_Spectral_Df(path)"
   ]
  },
  {
   "cell_type": "code",
   "execution_count": 11,
   "metadata": {},
   "outputs": [],
   "source": [
    "spec = y"
   ]
  },
  {
   "cell_type": "code",
   "execution_count": 12,
   "metadata": {},
   "outputs": [
    {
     "name": "stdout",
     "output_type": "stream",
     "text": [
      "[ 176.62558248  175.95681429  176.60352011 ... 1685.65133154 2463.15865164\n",
      " 1278.17703292]\n",
      "[ 1.37305540e+00 -1.44708422e+00 -9.78533586e-02 ...  4.38355020e+02\n",
      "  2.32484413e+02  5.67104816e+02]\n",
      "[  -0.66139752   -1.23525515    1.84319024 ... -577.38946931 -335.12050059\n",
      " -247.94426847]\n",
      "[  0.50681924   2.57586726  -0.48034739 ... 160.58264574 -15.33785769\n",
      "  74.6559658 ]\n",
      "[ -1.5330671   -2.92507754  -0.81580418 ... 117.47305889 -31.46461586\n",
      "  12.55823966]\n",
      "[-3.53154341  6.27873805 -1.17432609 ... -4.04741575 -9.36781537\n",
      " 13.7665772 ]\n"
     ]
    },
    {
     "ename": "",
     "evalue": "",
     "output_type": "error",
     "traceback": [
      "\u001b[1;31m在当前单元格或上一个单元格中执行代码时 Kernel 崩溃。请查看单元格中的代码，以确定故障的可能原因。有关详细信息，请单击 <a href='https://aka.ms/vscodeJupyterKernelCrash'>此处</a>。有关更多详细信息，请查看 Jupyter <a href='command:jupyter.viewOutput'>log</a>。"
     ]
    }
   ],
   "source": [
    "spec = spec.T.tolist() \n",
    "w = pywt.Wavelet('sym8')\n",
    "[ca5, cd5, cd4, cd3, cd2, cd1] = pywt.wavedec(spec, w, level=5)\n",
    "for cd in [ca5, cd5, cd4, cd3, cd2, cd1] :\n",
    "    print(cd)"
   ]
  },
  {
   "cell_type": "code",
   "execution_count": null,
   "metadata": {},
   "outputs": [],
   "source": [
    "def wavelet_noising(spec):\n",
    "    spec = spec.T.tolist()  # 将np.ndarray()转为列表\n",
    "    w = pywt.Wavelet('sym8')#选择sym8小波基\n",
    "    [ca5, cd5, cd4, cd3, cd2, cd1] = pywt.wavedec(spec, w, level=5)  # 5层小波分解\n",
    "\n",
    "    length0 = len(spec)\n",
    "\n",
    "    Cd1 = np.array(cd1)\n",
    "    abs_cd1 = np.abs(Cd1)\n",
    "    median_cd1 = np.median(abs_cd1)\n",
    "\n",
    "    sigma = (1.0 / 0.6745) * median_cd1\n",
    "    lamda = sigma * math.sqrt(2.0 * math.log(float(length0 ), math.e))#固定阈值计算\n",
    "    usecoeffs = []\n",
    "    usecoeffs.append(ca5)  # 向列表末尾添加对象\n",
    "\n",
    "    #软硬阈值折中的方法\n",
    "    a = 0.5\n",
    "    for cds in [cd1, cd2, cd3, cd4, cd5] :\n",
    "        for i in range(len(cds)):\n",
    "            if (abs(cds[k]) >= lamda):\n",
    "                cds[k] = sgn(cds[k]) * (abs(cds[k]) - a * lamda)\n",
    "            else:\n",
    "                cds[k] = 0.0\n",
    "        usecoeffs.append(cds)\n",
    "    recoeffs = pywt.waverec(usecoeffs, w)#信号重构\n",
    "    return recoeffs"
   ]
  },
  {
   "cell_type": "code",
   "execution_count": null,
   "metadata": {},
   "outputs": [],
   "source": [
    "path = r'C:\\Users\\0\\Desktop\\example1.csv'\n",
    "savepath = r'C:\\Users\\0\\Desktop\\example2.csv'\n",
    "lable = pd.read_csv(path,sep = ',',header=None).to_numpy()\n",
    "lable_iter = 0\n",
    "pos = np.where(lable == 'number')[0][0]\n",
    "lab_num = lable[pos][1:]\n",
    "feat = np.zeros((np.sum(lab_num),pos))\n",
    "for length,j in zip(lab_num,range(len(lab_num))):\n",
    "    for i in range(pos):\n",
    "        feat[lable_iter:(lable_iter + length), i ] = lable[i,j+1]\n",
    "        print(j,lable_iter,lable_iter + length )\n",
    "    lable_iter += length\n",
    "np.savetxt(savepath,feat,delimiter=',')"
   ]
  },
  {
   "cell_type": "code",
   "execution_count": null,
   "metadata": {},
   "outputs": [],
   "source": [
    "lable = pd.read_csv(path,sep = ',',header=None).to_numpy()\n",
    "lable_iter = 0\n",
    "pos = np.where(lable == 'number')[0][0]\n",
    "lab_num = lable[pos][1:]\n",
    "feat = np.zeros((np.sum(lab_num),pos))\n",
    "for length,j in zip(lab_num,range(len(lab_num))):\n",
    "    for i in range(pos):\n",
    "        feat[lable_iter:(lable_iter + length), i ] = lable[i,j+1]\n",
    "        print(j,lable_iter,lable_iter + length )\n",
    "    lable_iter += length\n",
    "np.savetxt(savepath,feat,delimiter=',')"
   ]
  }
 ],
 "metadata": {
  "kernelspec": {
   "display_name": "ten",
   "language": "python",
   "name": "python3"
  },
  "language_info": {
   "codemirror_mode": {
    "name": "ipython",
    "version": 3
   },
   "file_extension": ".py",
   "mimetype": "text/x-python",
   "name": "python",
   "nbconvert_exporter": "python",
   "pygments_lexer": "ipython3",
   "version": "3.10.12"
  },
  "orig_nbformat": 4
 },
 "nbformat": 4,
 "nbformat_minor": 2
}
