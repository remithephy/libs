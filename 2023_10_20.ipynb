{
 "cells": [
  {
   "cell_type": "code",
   "execution_count": 1,
   "metadata": {},
   "outputs": [],
   "source": [
    "import numpy as np\n",
    "import file_tool as ft\n",
    "from scipy.stats import linregress\n",
    "import matplotlib.pyplot as plt\n",
    "import pandas as pd\n",
    "import math\n",
    "path = r'D:\\remi\\test\\tempe.csv'\n",
    "spec_path = r'D:\\20231017\\2wei.csv'\n",
    "#read data\n",
    "wl,spec = ft.Load_Spectral_Df(spec_path)\n",
    "data = pd.read_csv(path,header=None,sep = ',').iloc[:,1:].values\n",
    "#creat sub_data\n",
    "lambda_k,E_k,Ag_k = data[0,:],data[1,:],data[2,:]\n",
    "I_k = spec[np.isin(wl,lambda_k)]\n",
    "y = [math.log(I*lam/ag,math.e) for lam,I,ag in zip(lambda_k,I_k,Ag_k)]\n",
    "#########plot###########\n",
    "\n",
    "\n",
    "#linear regression\n",
    "slope, intercept, r_value, p_value, std_err = linregress(E_k, y)\n",
    "line = slope * np.array(E_k) + intercept\n",
    "\n",
    "# Plotting the regression line\n",
    "plt.plot(E_k, line, color='red', label='Linear Regression')\n",
    "plt.scatter(E_k, y, color='blue', label='Points')\n",
    "plt.text(E_k.mean(),np.mean(y),f'tempeature: {slope:.6f}', fontsize=12, color='black')\n",
    "\n",
    "# Adding labels and title to the plot\n",
    "plt.xlabel('$E_k$')\n",
    "plt.ylabel(r'$ln(\\frac {I^{jk}\\lambda_{jk}}{A_{jk}g_k})$')\n",
    "\n",
    "\n",
    "plt.title('Plasma Tempture for NaI')\n",
    "\n",
    "# Adding legend\n",
    "plt.legend()\n",
    "\n",
    "# Displaying the plot\n",
    "plt.show()\n"
   ]
  }
 ],
 "metadata": {
  "kernelspec": {
   "display_name": "ten",
   "language": "python",
   "name": "python3"
  },
  "language_info": {
   "codemirror_mode": {
    "name": "ipython",
    "version": 3
   },
   "file_extension": ".py",
   "mimetype": "text/x-python",
   "name": "python",
   "nbconvert_exporter": "python",
   "pygments_lexer": "ipython3",
   "version": "3.10.12"
  }
 },
 "nbformat": 4,
 "nbformat_minor": 2
}
