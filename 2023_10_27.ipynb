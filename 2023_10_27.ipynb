{
 "cells": [
  {
   "cell_type": "code",
   "execution_count": 2,
   "metadata": {},
   "outputs": [],
   "source": [
    "import numpy as np\n",
    "import file_tool as ft\n",
    "import preprocessing as pp\n",
    "import os\n",
    "\n",
    "namelist = []\n",
    "path = r'D:\\20231017\\origin'#选择原始文件夹\n",
    "\n",
    "for name in os.listdir(path):#读.csv的文件\n",
    "    if name.endswith(\".csv\"):\n",
    "        namelist.append(path + '\\\\' + name)\n",
    "\n"
   ]
  },
  {
   "cell_type": "code",
   "execution_count": null,
   "metadata": {},
   "outputs": [],
   "source": []
  },
  {
   "cell_type": "code",
   "execution_count": 6,
   "metadata": {},
   "outputs": [
    {
     "name": "stdout",
     "output_type": "stream",
     "text": [
      "(12288, 203)\n",
      "(12288, 497)\n",
      "(12288, 494)\n",
      "(12288, 499)\n",
      "(12288, 489)\n",
      "(12288, 495)\n",
      "(12288, 490)\n"
     ]
    }
   ],
   "source": [
    "\n",
    "for names in namelist:\n",
    "    wl,spec = ft.Load_MultiSpec(names)\n",
    "    spec = pp.Anomalous_spectrum_removal(spec)\n",
    "    print(np.shape(spec))\n",
    "    if names == namelist[0]:\n",
    "        spec1 = spec.T\n",
    "    else:\n",
    "        spec1 = np.vstack((spec1,spec.T))\n",
    "\n",
    "np.savetxt(path + 'all.csv',spec1,delimiter=',',fmt='%.06f')"
   ]
  }
 ],
 "metadata": {
  "kernelspec": {
   "display_name": "ten",
   "language": "python",
   "name": "python3"
  },
  "language_info": {
   "codemirror_mode": {
    "name": "ipython",
    "version": 3
   },
   "file_extension": ".py",
   "mimetype": "text/x-python",
   "name": "python",
   "nbconvert_exporter": "python",
   "pygments_lexer": "ipython3",
   "version": "3.10.12"
  }
 },
 "nbformat": 4,
 "nbformat_minor": 2
}
