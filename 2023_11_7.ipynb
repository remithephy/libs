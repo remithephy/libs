{
 "cells": [
  {
   "cell_type": "code",
   "execution_count": 7,
   "metadata": {},
   "outputs": [
    {
     "name": "stderr",
     "output_type": "stream",
     "text": [
      "d:\\remi\\REMI\\file_tool.py:35: DtypeWarning: Columns (0,1,2,3,4,5,6,7,8,9,10,11,12,13,14,15,16,17,18,19,20,21,22,23,24,25,26,27,28,29,30,31,32,33,34,35,36,37,38,39,40,41,42,43,44,45,46,47,48,49,50,51,52,53,54,55,56,57,58,59,60,61,62,63,64,65,66,67,68,69,70,71,72,73,74,75,76,77,78,79,80,81,82,83,84,85,86,87,88,89,90,91,92,93,94,95,96,97,98,99,100) have mixed types. Specify dtype option on import or set low_memory=False.\n",
      "  all_lab = pd.read_csv(path, header=None)\n",
      "d:\\remi\\REMI\\file_tool.py:35: DtypeWarning: Columns (0,1,2,3,4,5,6,7,8,9,10,11,12,13,14,15,16,17,18,19,20,21,22,23,24,25,26,27,28,29,30,31,32,33,34,35,36,37,38,39,40,41,42,43,44,45,46,47,48,49,50,51,52,53,54,55,56,57,58,59,60,61,62,63,64,65,66,67,68,69,70,71,72,73,74,75,76,77,78,79,80,81,82,83,84,85,86,87,88,89,90,91,92,93,94,95,96,97,98,99,100,101,102,103,104,105,106,107,108,109,110) have mixed types. Specify dtype option on import or set low_memory=False.\n",
      "  all_lab = pd.read_csv(path, header=None)\n",
      "d:\\remi\\REMI\\file_tool.py:35: DtypeWarning: Columns (0,1,2,3,4,5,6,7,8,9,10,11,12,13,14,15,16,17,18,19,20,21,22,23,24,25,26,27,28,29,30,31,32,33,34,35,36,37,38,39,40,41,42,43,44,45,46,47,48,49,50,51,52,53,54,55,56,57,58,59,60,61,62,63,64,65,66,67,68,69,70,71,72,73,74,75,76,77,78,79,80,81,82,83,84,85,86,87,88,89,90,91,92,93,94,95,96,97,98,99,100,101) have mixed types. Specify dtype option on import or set low_memory=False.\n",
      "  all_lab = pd.read_csv(path, header=None)\n",
      "d:\\remi\\REMI\\file_tool.py:35: DtypeWarning: Columns (0,1,2,3,4,5,6,7,8,9,10,11,12,13,14,15,16,17,18,19,20,21,22,23,24,25,26,27,28,29,30,31,32,33,34,35,36,37,38,39,40,41,42,43,44,45,46,47,48,49,50,51,52,53,54,55,56,57,58,59,60,61,62,63,64,65,66,67,68,69,70,71,72,73,74,75,76,77,78,79,80,81,82,83,84,85,86,87,88,89,90,91,92,93,94,95,96,97,98,99,100,101,102,103,104,105,106,107,108,109,110,111,112,113,114) have mixed types. Specify dtype option on import or set low_memory=False.\n",
      "  all_lab = pd.read_csv(path, header=None)\n"
     ]
    }
   ],
   "source": [
    "'''\n",
    ":@Author: Remi\n",
    ":@Date: 2023/9/13 08:21:53\n",
    ":@LastEditors: Remi\n",
    ":@LastEditTime: 2023/10/19 20:07:26\n",
    ":Description: \n",
    "'''\n",
    "import numpy as np\n",
    "import preprocessing as pp\n",
    "import file_tool as ft\n",
    "import math\n",
    "\n",
    "path = r'D:\\20231106'\n",
    "path_list = ft.find_file(path,'.csv')\n",
    "name_list = ['0.2','0.5','1','2']\n",
    "n = 0\n",
    "\n",
    "for paths in path_list:\n",
    "    wl,spec = ft.read_ava(paths)\n",
    "    rsd = []\n",
    "    spec_num = len(spec[0,:])\n",
    "    rsd = [pp.RSD_calculate(spec[wavelength],spec_num) for wavelength in range(len(wl))] \n",
    "    np.savetxt(path + '//' +name_list[n]+ 'rsd.csv',np.hstack((wl,np.array([rsd]).T)),delimiter=',',fmt='%.04f')\n",
    "    n = n + 1"
   ]
  },
  {
   "cell_type": "code",
   "execution_count": null,
   "metadata": {},
   "outputs": [],
   "source": []
  }
 ],
 "metadata": {
  "kernelspec": {
   "display_name": "ten",
   "language": "python",
   "name": "python3"
  },
  "language_info": {
   "codemirror_mode": {
    "name": "ipython",
    "version": 3
   },
   "file_extension": ".py",
   "mimetype": "text/x-python",
   "name": "python",
   "nbconvert_exporter": "python",
   "pygments_lexer": "ipython3",
   "version": "3.10.12"
  }
 },
 "nbformat": 4,
 "nbformat_minor": 2
}
