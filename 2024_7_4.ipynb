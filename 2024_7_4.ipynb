{
 "cells": [
  {
   "cell_type": "code",
   "execution_count": 1,
   "metadata": {
    "metadata": {}
   },
   "outputs": [],
   "source": [
    "import random\n",
    "import numpy as np\n",
    "import pandas as pd\n",
    "\n",
    "def select_mean_spectrum(spectral,mean_times,amount):#抽样平均1\n",
    "    length_of_spec=np.shape(spectral)[0]\n",
    "    num_of_spec=np.shape(spectral)[1]\n",
    "    spectral_after_mean=np.zeros((length_of_spec,amount))\n",
    "    for i in range(amount):\n",
    "        random_list = random.sample(range(0,num_of_spec),mean_times)\n",
    "        spectral_after_mean[:,i]=np.sum(spectral[:,random_list],axis=1)/amount  \n",
    "    return spectral_after_mean\n",
    "\n",
    "def read_ava(path):\n",
    "    all_lab = pd.read_excel(path, header=None )\n",
    "    all_lab = all_lab.drop(all_lab.index[[1,2,3,4,5]])\n",
    "    all_lab = all_lab.drop(all_lab.index[[0]])\n",
    "    wavelength = np.array(([all_lab.iloc[:,0].values.astype(float)])).T\n",
    "    all_lab.drop(columns=[0],inplace=True)\n",
    "    spec = all_lab.values.astype(float)\n",
    "    return wavelength,spec\n",
    "\n",
    "def RSD_calculate(spec,n):#算RSD\n",
    "    #导入对应一个波长的所有光谱数据，平均将光谱分为n份的数量\n",
    "    X_ave = [0 for _ in range(n)]\n",
    "    every_ave_num = (len(spec)//n)\n",
    "    sample = np.random.choice(a = every_ave_num*n,size = every_ave_num*n,replace=False,p=None)#无放回抽样\n",
    "    for i in range(n):\n",
    "        x_sum = 0\n",
    "        list_num = i * every_ave_num\n",
    "        for j in range(list_num,list_num + every_ave_num):\n",
    "            x_sum += spec[sample[j]]\n",
    "        X_ave[i] = x_sum/every_ave_num\n",
    "    RSD = np.sqrt(((X_ave - np.mean(X_ave))**2).sum()/(n-1)) / np.mean(X_ave)\n",
    "    return RSD\n",
    "\n",
    "\n",
    "file_path = r'C:\\Users\\0\\Documents\\WeChat Files\\wxid_lo02hcn48pud22\\FileStorage\\File\\2024-07'\n",
    "file_name = 'U44.xlsx'\n",
    "wl,spec = read_ava(file_path + '\\\\' + file_name)\n",
    "\n"
   ]
  },
  {
   "cell_type": "code",
   "execution_count": 3,
   "metadata": {
    "metadata": {}
   },
   "outputs": [],
   "source": [
    "\n",
    "random_selected_spec = select_mean_spectrum(spec,10,100)#10个一平均出100个平均后的谱\n",
    "rsd = [RSD_calculate(random_selected_spec[i,:],len(random_selected_spec[0,:])) for i in range(len(random_selected_spec[:,0]))]\n"
   ]
  },
  {
   "cell_type": "code",
   "execution_count": 4,
   "metadata": {
    "metadata": {}
   },
   "outputs": [],
   "source": [
    "\n",
    "np.savetxt(file_path + '\\\\' + 'meand' + file_name[:-5] + '.csv',random_selected_spec,delimiter=',')\n",
    "np.savetxt(file_path + '\\\\' + 'rsd' + file_name[:-5] + '.csv',rsd,delimiter=',')"
   ]
  }
 ],
 "metadata": {
  "kernelspec": {
   "display_name": "ten",
   "language": "python",
   "name": "python3"
  },
  "language_info": {
   "codemirror_mode": {
    "name": "ipython",
    "version": 3
   },
   "file_extension": ".py",
   "mimetype": "text/x-python",
   "name": "python",
   "nbconvert_exporter": "python",
   "pygments_lexer": "ipython3",
   "version": "3.10.12"
  }
 },
 "nbformat": 4,
 "nbformat_minor": 2
}
