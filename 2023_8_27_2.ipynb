{
 "cells": [
  {
   "cell_type": "code",
   "execution_count": 1,
   "metadata": {},
   "outputs": [],
   "source": [
    "import file_tool as ft\n",
    "import preprocessing as pp\n",
    "import numpy as np\n",
    "import pandas as pd\n",
    "import os\n",
    "path = r'D:\\20230816\\数据汇总\\新LTB\\origin'\n",
    "ave_path = r'D:\\20230816\\数据汇总\\新LTB\\normalized\\4_ave.csvnormalized.csv'\n",
    "peak_path = r'D:\\20230816\\La.csv'\n",
    "\n",
    "name_list = []\n",
    "\n",
    "\n",
    "slice_list = pd.read_csv(peak_path,header=None,sep = ',').values.flatten(order='c')\n",
    "mylist= os.listdir(path)\n",
    "\n",
    "for name in mylist:\n",
    "    if name.endswith(\".csv\"):\n",
    "            name_list.append(path+'\\\\'+name) \n",
    "            name = os.path.join(path,name)\n",
    "\n",
    "wl,spec = ft.Load_Spectral_Df(ave_path)\n",
    "p,m,aim_peak = pp.Peak_integrate(wl,spec,slice_list,1)\n"
   ]
  },
  {
   "cell_type": "code",
   "execution_count": 2,
   "metadata": {},
   "outputs": [],
   "source": [
    "for paths in name_list:\n",
    "    wl,spec = ft.Load_MultiSpec(paths)\n",
    "    slice_spec = [] \n",
    "    slice_wl = []\n",
    "    for single_peak,i in zip(aim_peak,range(len(aim_peak))):#便利每个峰位置的波长切片\n",
    "        slice_cache = spec[single_peak - m[i]:single_peak + p[i]]\n",
    "        wl_cache = wl[single_peak - m[i]:single_peak + p[i]]\n",
    "        for j in range(len(slice_cache)):\n",
    "            slice_spec.append(slice_cache[j])\n",
    "            slice_wl.append(wl_cache[j])\n",
    "    if paths == name_list[0]:\n",
    "        slice_1 =  np.array(slice_spec)\n",
    "\n",
    "    slice_spec = np.array(slice_spec)\n",
    "    slice_wl = np.array(slice_wl)  \n",
    "       \n",
    "    if paths != name_list[0]:\n",
    "        slice_1 = np.hstack((slice_1,slice_spec))#拼接\n",
    "\n",
    "np.savetxt(paths + '_sliced.csv',slice_1.T,delimiter=',',fmt='%.06f')\n",
    "np.savetxt(paths + '_wl.csv',slice_wl.T,delimiter=',',fmt='%.06f')\n",
    "    "
   ]
  }
 ],
 "metadata": {
  "kernelspec": {
   "display_name": "ten",
   "language": "python",
   "name": "python3"
  },
  "language_info": {
   "codemirror_mode": {
    "name": "ipython",
    "version": 3
   },
   "file_extension": ".py",
   "mimetype": "text/x-python",
   "name": "python",
   "nbconvert_exporter": "python",
   "pygments_lexer": "ipython3",
   "version": "3.10.12"
  },
  "orig_nbformat": 4
 },
 "nbformat": 4,
 "nbformat_minor": 2
}
