{
 "cells": [
  {
   "cell_type": "code",
   "execution_count": 1,
   "metadata": {},
   "outputs": [],
   "source": [
    "import numpy as np\n",
    "import pandas as pd\n",
    "import matplotlib.pyplot as plt\n",
    "from sklearn.metrics import mean_squared_error, r2_score\n",
    "from sklearn.svm import SVR\n",
    "\n",
    "\n",
    "data = pd.read_csv(r\"D:\\20231017\\preprocessed_for_multi\\PLS\\weighted_pls.csv\")\n",
    "Y = data.values[:, 0]\n",
    "X = data.values[:, 40:41]\n",
    "\n",
    "#wl = np.arange(0, len(X[0,:]), 1)\n",
    "#print(len(wl))\n",
    "#with plt.style.context('ggplot'):\n",
    "#    plt.plot(wl, X.T)\n",
    "#    plt.xlabel(\"Pixels\")\n",
    "#    plt.ylabel(\"Absorbance\")\n",
    "#plt.show()\n",
    "\n",
    "y = Y/1000\n",
    "# Create and fit the SVR model\n",
    "svr = SVR(kernel='poly', C=1, epsilon=0.1)\n",
    "svr.fit(X, y)\n",
    "\n",
    "# Predict\n",
    "y_pred = svr.predict(X)\n",
    "\n",
    "# Plot the data points and regression line\n",
    "plt.scatter(X, y, color='blue', label='Data')\n",
    "plt.plot(X, y_pred, color='red', label='Regression Line')\n",
    "\n",
    "# Plot the upper and lower boundaries\n",
    "plt.plot(X, y_pred + svr.epsilon, color='green', linestyle='--', label='Upper Boundary')\n",
    "plt.plot(X, y_pred - svr.epsilon, color='green', linestyle='--', label='Lower Boundary')\n",
    "\n",
    "# Calculate R2 score\n",
    "r2 = r2_score(y, y_pred)\n",
    "\n",
    "# Add labels and title\n",
    "plt.xlabel('intensity')\n",
    "plt.ylabel('concentration(pp)')\n",
    "plt.title('SVR Regression')\n",
    "plt.text(0.95, 0.05, f'R2 score: {r2:.4f}', transform=plt.gca().transAxes, ha='right')\n",
    "# Add legend\n",
    "plt.legend()\n",
    "\n",
    "# Show the plot\n",
    "plt.show()"
   ]
  }
 ],
 "metadata": {
  "kernelspec": {
   "display_name": "ten",
   "language": "python",
   "name": "python3"
  },
  "language_info": {
   "codemirror_mode": {
    "name": "ipython",
    "version": 3
   },
   "file_extension": ".py",
   "mimetype": "text/x-python",
   "name": "python",
   "nbconvert_exporter": "python",
   "pygments_lexer": "ipython3",
   "version": "3.10.12"
  }
 },
 "nbformat": 4,
 "nbformat_minor": 2
}
