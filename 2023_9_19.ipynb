{
 "cells": [
  {
   "cell_type": "code",
   "execution_count": 1,
   "metadata": {},
   "outputs": [],
   "source": [
    "'''\n",
    ":@Author: Remi\n",
    ":@Date: 2023/7/23 11:22:38\n",
    ":@LastEditors: Remi\n",
    ":@LastEditTime: 2023/9/19 16:42:40\n",
    ":Description: calculate RSD\n",
    "'''\n",
    "import file_tool as ft\n",
    "import numpy as np\n",
    "import preprocessing as pp\n",
    "'''\n",
    "记得文件夹要用数字命名\n",
    "'''\n",
    "################cache/需要改的\n",
    "spec_num = 150\n",
    "rsd_list = []\n",
    "head = ['wl']\n",
    "##################path##########################\n",
    "filename = r'D:\\20230816\\20230816下午oldltb'#file position\n",
    "##################load#########################\n",
    "samples=ft.Load_Spectral_of_All_Samples_Df(filename)"
   ]
  },
  {
   "cell_type": "code",
   "execution_count": 3,
   "metadata": {},
   "outputs": [
    {
     "name": "stdout",
     "output_type": "stream",
     "text": [
      "0\n",
      "1\n",
      "2\n"
     ]
    },
    {
     "ename": "ZeroDivisionError",
     "evalue": "division by zero",
     "output_type": "error",
     "traceback": [
      "\u001b[1;31m---------------------------------------------------------------------------\u001b[0m",
      "\u001b[1;31mZeroDivisionError\u001b[0m                         Traceback (most recent call last)",
      "\u001b[1;32md:\\LIBS_Data_Processing_Packge\\remi\\REMI\\2023_9_19.ipynb 单元格 2\u001b[0m line \u001b[0;36m4\n\u001b[0;32m      <a href='vscode-notebook-cell:/d%3A/LIBS_Data_Processing_Packge/remi/REMI/2023_9_19.ipynb#W2sZmlsZQ%3D%3D?line=1'>2</a>\u001b[0m wl \u001b[39m=\u001b[39m samples[i][\u001b[39m1\u001b[39m]\n\u001b[0;32m      <a href='vscode-notebook-cell:/d%3A/LIBS_Data_Processing_Packge/remi/REMI/2023_9_19.ipynb#W2sZmlsZQ%3D%3D?line=2'>3</a>\u001b[0m head\u001b[39m.\u001b[39mappend(samples[i][\u001b[39m0\u001b[39m])\n\u001b[1;32m----> <a href='vscode-notebook-cell:/d%3A/LIBS_Data_Processing_Packge/remi/REMI/2023_9_19.ipynb#W2sZmlsZQ%3D%3D?line=3'>4</a>\u001b[0m rsd \u001b[39m=\u001b[39m [pp\u001b[39m.\u001b[39mRSD_calculate(samples[i][\u001b[39m2\u001b[39m][wavelength],spec_num) \u001b[39mfor\u001b[39;00m wavelength \u001b[39min\u001b[39;00m \u001b[39mrange\u001b[39m(\u001b[39mlen\u001b[39m(wl))] \n\u001b[0;32m      <a href='vscode-notebook-cell:/d%3A/LIBS_Data_Processing_Packge/remi/REMI/2023_9_19.ipynb#W2sZmlsZQ%3D%3D?line=4'>5</a>\u001b[0m \u001b[39mprint\u001b[39m(i)\n\u001b[0;32m      <a href='vscode-notebook-cell:/d%3A/LIBS_Data_Processing_Packge/remi/REMI/2023_9_19.ipynb#W2sZmlsZQ%3D%3D?line=5'>6</a>\u001b[0m \u001b[39mif\u001b[39;00m i \u001b[39m==\u001b[39m \u001b[39m0\u001b[39m:\n",
      "\u001b[1;32md:\\LIBS_Data_Processing_Packge\\remi\\REMI\\2023_9_19.ipynb 单元格 2\u001b[0m line \u001b[0;36m4\n\u001b[0;32m      <a href='vscode-notebook-cell:/d%3A/LIBS_Data_Processing_Packge/remi/REMI/2023_9_19.ipynb#W2sZmlsZQ%3D%3D?line=1'>2</a>\u001b[0m wl \u001b[39m=\u001b[39m samples[i][\u001b[39m1\u001b[39m]\n\u001b[0;32m      <a href='vscode-notebook-cell:/d%3A/LIBS_Data_Processing_Packge/remi/REMI/2023_9_19.ipynb#W2sZmlsZQ%3D%3D?line=2'>3</a>\u001b[0m head\u001b[39m.\u001b[39mappend(samples[i][\u001b[39m0\u001b[39m])\n\u001b[1;32m----> <a href='vscode-notebook-cell:/d%3A/LIBS_Data_Processing_Packge/remi/REMI/2023_9_19.ipynb#W2sZmlsZQ%3D%3D?line=3'>4</a>\u001b[0m rsd \u001b[39m=\u001b[39m [pp\u001b[39m.\u001b[39;49mRSD_calculate(samples[i][\u001b[39m2\u001b[39;49m][wavelength],spec_num) \u001b[39mfor\u001b[39;00m wavelength \u001b[39min\u001b[39;00m \u001b[39mrange\u001b[39m(\u001b[39mlen\u001b[39m(wl))] \n\u001b[0;32m      <a href='vscode-notebook-cell:/d%3A/LIBS_Data_Processing_Packge/remi/REMI/2023_9_19.ipynb#W2sZmlsZQ%3D%3D?line=4'>5</a>\u001b[0m \u001b[39mprint\u001b[39m(i)\n\u001b[0;32m      <a href='vscode-notebook-cell:/d%3A/LIBS_Data_Processing_Packge/remi/REMI/2023_9_19.ipynb#W2sZmlsZQ%3D%3D?line=5'>6</a>\u001b[0m \u001b[39mif\u001b[39;00m i \u001b[39m==\u001b[39m \u001b[39m0\u001b[39m:\n",
      "File \u001b[1;32md:\\LIBS_Data_Processing_Packge\\remi\\REMI\\preprocessing.py:55\u001b[0m, in \u001b[0;36mRSD_calculate\u001b[1;34m(spec, n)\u001b[0m\n\u001b[0;32m     53\u001b[0m     \u001b[39mfor\u001b[39;00m j \u001b[39min\u001b[39;00m \u001b[39mrange\u001b[39m(list_num,list_num \u001b[39m+\u001b[39m every_ave_num):\n\u001b[0;32m     54\u001b[0m         x_sum \u001b[39m+\u001b[39m\u001b[39m=\u001b[39m spec[sample[j]]\n\u001b[1;32m---> 55\u001b[0m     X_ave[i] \u001b[39m=\u001b[39m x_sum\u001b[39m/\u001b[39;49mevery_ave_num\n\u001b[0;32m     56\u001b[0m RSD \u001b[39m=\u001b[39m np\u001b[39m.\u001b[39msqrt(((X_ave \u001b[39m-\u001b[39m np\u001b[39m.\u001b[39mmean(X_ave))\u001b[39m*\u001b[39m\u001b[39m*\u001b[39m\u001b[39m2\u001b[39m)\u001b[39m.\u001b[39msum()\u001b[39m/\u001b[39m(n\u001b[39m-\u001b[39m\u001b[39m1\u001b[39m)) \u001b[39m/\u001b[39m np\u001b[39m.\u001b[39mmean(X_ave)\n\u001b[0;32m     57\u001b[0m \u001b[39mreturn\u001b[39;00m RSD\n",
      "\u001b[1;31mZeroDivisionError\u001b[0m: division by zero"
     ]
    }
   ],
   "source": [
    "for i in range(len(samples)):\n",
    "    wl = samples[i][1]\n",
    "    head.append(samples[i][0])\n",
    "    rsd = [pp.RSD_calculate(samples[i][2][wavelength],spec_num) for wavelength in range(len(wl))] \n",
    "    print(i)\n",
    "    if i == 0:\n",
    "        rsd_list = np.hstack((np.array(([wl])).T,np.array(([rsd])).T))\n",
    "    else:\n",
    "        rsd_list = np.hstack((rsd_list,np.array(([rsd])).T))\n",
    "\n",
    "np.set_printoptions(precision = 4)        \n"
   ]
  },
  {
   "cell_type": "code",
   "execution_count": 4,
   "metadata": {},
   "outputs": [
    {
     "data": {
      "text/plain": [
       "array([[ 12. ,   8. ,  10. , ..., -22. , -20. , -17. ],\n",
       "       [ -1. ,   8. ,   8. , ...,   1. ,  -5. ,   3. ],\n",
       "       [ -2. ,   5. ,  -1. , ...,  -4. ,  -1. ,   4. ],\n",
       "       ...,\n",
       "       [182.1, 137.4, 157.8, ..., 247.5, 255.3, 169.5],\n",
       "       [179.3, 105.8, 136.7, ..., 162.5, 167.9, 162.4],\n",
       "       [153.3, 118.2, 143.1, ..., 201.7, 150.7, 165.7]])"
      ]
     },
     "execution_count": 4,
     "metadata": {},
     "output_type": "execute_result"
    }
   ],
   "source": [
    "i = 3\n",
    "wl = samples[i][1]\n",
    "head.append(samples[i][0])\n"
   ]
  },
  {
   "cell_type": "code",
   "execution_count": 10,
   "metadata": {},
   "outputs": [
    {
     "data": {
      "text/plain": [
       "array([[ 12. ,   8. ,  10. , ..., -22. , -20. , -17. ],\n",
       "       [ -1. ,   8. ,   8. , ...,   1. ,  -5. ,   3. ],\n",
       "       [ -2. ,   5. ,  -1. , ...,  -4. ,  -1. ,   4. ],\n",
       "       ...,\n",
       "       [182.1, 137.4, 157.8, ..., 247.5, 255.3, 169.5],\n",
       "       [179.3, 105.8, 136.7, ..., 162.5, 167.9, 162.4],\n",
       "       [153.3, 118.2, 143.1, ..., 201.7, 150.7, 165.7]])"
      ]
     },
     "execution_count": 10,
     "metadata": {},
     "output_type": "execute_result"
    }
   ],
   "source": [
    "samples[i][2]"
   ]
  },
  {
   "cell_type": "code",
   "execution_count": null,
   "metadata": {},
   "outputs": [],
   "source": [
    "\n",
    "import pandas as pd\n",
    "df = np.vstack((np.array(([head])),rsd_list))\n",
    "pd.DataFrame(df).to_csv(filename +'\\\\'+ 'RSD.csv', index=False, header=False)"
   ]
  }
 ],
 "metadata": {
  "kernelspec": {
   "display_name": "ten",
   "language": "python",
   "name": "python3"
  },
  "language_info": {
   "codemirror_mode": {
    "name": "ipython",
    "version": 3
   },
   "file_extension": ".py",
   "mimetype": "text/x-python",
   "name": "python",
   "nbconvert_exporter": "python",
   "pygments_lexer": "ipython3",
   "version": "3.10.12"
  },
  "orig_nbformat": 4
 },
 "nbformat": 4,
 "nbformat_minor": 2
}
