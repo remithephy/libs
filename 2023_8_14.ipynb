{
 "cells": [
  {
   "cell_type": "code",
   "execution_count": 1,
   "metadata": {},
   "outputs": [],
   "source": [
    "'''\n",
    ":@Author: Remi\n",
    ":@Date: 2023/7/23 11:22:38\n",
    ":@LastEditors: Remi\n",
    ":@LastEditTime: 2023/8/14 16:54:56\n",
    ":Description: calculate RSD\n",
    "'''\n",
    "import file_tool as ft\n",
    "import numpy as np\n",
    "import preprocessing as pp\n",
    "import os\n",
    "import pandas as pd\n",
    "##################path##########################\n",
    "np.set_printoptions(precision = 3)\n",
    "filename = r'D:\\LIBS_Data_Processing_Packge\\DemoData_remi\\test'\n",
    "\n"
   ]
  },
  {
   "cell_type": "code",
   "execution_count": 2,
   "metadata": {},
   "outputs": [],
   "source": [
    "##################load#########################\n",
    "samples=ft.Load_Spectral_of_All_Samples_Df(filename)\n",
    "#samples[i][j] i = sample_number ,j = 1 -> wavelength,j = 2 -> spectrum,j = 3 -> filename\n",
    "mean_spec = [np.mean(samples[i][2],axis = 1) for i in range(len(samples))]\n",
    "peak_list = [441.6825,445.5695]\n",
    "p,m,peak_list = pp.Peak_integrate(samples[1][1],mean_spec[0],peak_list)\n",
    "WL_ = []\n",
    "slice_ = []\n",
    "rsd = []\n",
    "conc = []\n"
   ]
  },
  {
   "cell_type": "code",
   "execution_count": 3,
   "metadata": {},
   "outputs": [],
   "source": [
    "for i in range(len(samples)):\n",
    "    for j in range(len(peak_list)):\n",
    "        WL_.append( np.where(samples[i][1] == peak_list[j])[0][0])#pm wavelength\n",
    "        slice_.append((samples[i][2][WL_[j] - m[j]:WL_[j] + p[j],:]).mean(axis=0))\n",
    "        #slice的第0到len(peak_list)行代表sample i 的 j 个peak 的值\n",
    "        rsd.append(pp.RSD_calculate(slice_[i*len(peak_list) + j],len(slice_[i*len(peak_list) + j])))#separate data into 10 parts\n",
    "    conc.append(samples[i][0])\n",
    "rsd =np.array(rsd).reshape(len(samples),-1)\n",
    "conc = [float(x) for x in conc]\n",
    "\n",
    "################save################\n"
   ]
  },
  {
   "cell_type": "code",
   "execution_count": 8,
   "metadata": {},
   "outputs": [],
   "source": [
    "np.savetxt(filename +'\\\\'+'RSD.txt',np.hstack((np.array(([conc])).T,rsd)),delimiter=',',fmt='%.04f')"
   ]
  }
 ],
 "metadata": {
  "kernelspec": {
   "display_name": "ten",
   "language": "python",
   "name": "python3"
  },
  "language_info": {
   "codemirror_mode": {
    "name": "ipython",
    "version": 3
   },
   "file_extension": ".py",
   "mimetype": "text/x-python",
   "name": "python",
   "nbconvert_exporter": "python",
   "pygments_lexer": "ipython3",
   "version": "3.10.12"
  },
  "orig_nbformat": 4
 },
 "nbformat": 4,
 "nbformat_minor": 2
}
