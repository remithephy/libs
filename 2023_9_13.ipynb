{
 "cells": [
  {
   "cell_type": "code",
   "execution_count": 5,
   "metadata": {},
   "outputs": [],
   "source": [
    "\n",
    "'''\n",
    ":@Author: Remi\n",
    ":@Date: 2023/9/13 08:21:53\n",
    ":@LastEditors: Remi\n",
    ":@LastEditTime: 2023/9/13 08:21:53\n",
    ":Description: \n",
    "'''\n",
    "\n",
    "import seaborn as sns\n",
    "import numpy as np\n",
    "import pandas as pd\n",
    "from matplotlib.colors import ListedColormap\n",
    "import matplotlib as mpl\n",
    "\n",
    "max_path = r'D:\\20230911\\maxint.xlsx'\n",
    "ave_path = r'D:\\20230911\\integrate.xlsx'\n",
    "noise_path = r'D:\\20230911\\noise.xlsx'\n",
    "\n",
    "max_data = pd.read_excel(max_path, header=0,index_col= 0 )\n",
    "ave_data = pd.read_excel(ave_path, header=0,index_col= 0 )\n",
    "noise_data = pd.read_excel(noise_path, header=0,index_col= 0 )\n",
    "SNR = 20 * np.log10(ave_data/noise_data)\n",
    "%matplotlib inline\n",
    "\n",
    "cmap=mpl.cm.RdYlBu_r#获取色条\n",
    "newcolors=cmap(np.linspace(0,1,256))#分片操作\n",
    "newcmap=ListedColormap(newcolors[100:])#只取125之后的颜色列表，前面的舍去\n",
    "\n",
    "sns.set(font_scale=1.5)\n",
    "sns.set_context({\"figure.figsize\":(8,8)})\n",
    "#sns.heatmap(data=max_data,square=True, cmap=newcmap,vmin=800, vmax=2500) \n",
    "#sns.heatmap(data=noise_data,square=True, cmap=newcmap) \n",
    "sns.heatmap(data=SNR,square=True, cmap=newcmap).set_title('SNR')\n",
    "\n"
   ]
  }
 ],
 "metadata": {
  "kernelspec": {
   "display_name": "ten",
   "language": "python",
   "name": "python3"
  },
  "language_info": {
   "codemirror_mode": {
    "name": "ipython",
    "version": 3
   },
   "file_extension": ".py",
   "mimetype": "text/x-python",
   "name": "python",
   "nbconvert_exporter": "python",
   "pygments_lexer": "ipython3",
   "version": "3.10.12"
  },
  "orig_nbformat": 4
 },
 "nbformat": 4,
 "nbformat_minor": 2
}
