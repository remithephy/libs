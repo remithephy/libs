{
 "cells": [
  {
   "cell_type": "code",
   "execution_count": 161,
   "metadata": {
    "metadata": {}
   },
   "outputs": [],
   "source": [
    "import preprocessing as pp\n",
    "import os\n",
    "import pandas as pd\n",
    "import file_tool as ft\n",
    "import numpy as np\n",
    "\n",
    "# D:\\20240412\\origin\n",
    "path2 = r'D:\\20240412\\nm\\raw\\raw\\20nm.csv'\n",
    "path = r'D:\\20240412\\origin\\20\\201.csv'\n",
    "\n",
    "nm_feat = pd.read_csv(path,header=None).values.astype(np.float32)\n",
    "raw_feat = pd.read_csv(path2,header=None).values.astype(np.float32)\n",
    "select_wl = np.where(np.isin(nm_feat[:,0],852.075))\n",
    "select_wl2 = np.where(np.isin(raw_feat[:,0],894.291015625))"
   ]
  },
  {
   "cell_type": "code",
   "execution_count": 163,
   "metadata": {
    "metadata": {}
   },
   "outputs": [],
   "source": [
    "length = 10\n",
    "len_list = [30,60,90,150,180,210,240,270]\n",
    "RSD = []\n",
    "mean = []\n"
   ]
  },
  {
   "cell_type": "code",
   "execution_count": 164,
   "metadata": {
    "metadata": {}
   },
   "outputs": [],
   "source": [
    "for i in len_list:\n",
    "    a_new = []\n",
    "    a = raw_feat[select_wl2[0][0] ,1:i]\n",
    "    for lengths in range(i//length - 1):\n",
    "        a_new.append(a[lengths:lengths+length].mean())\n",
    "        \n",
    "    a_new = np.array(a_new)\n",
    "    RSD.append(pp.RSD_calculate(a_new,len(a_new)))\n",
    "    mean.append(a[0:lengths+length].mean())"
   ]
  },
  {
   "cell_type": "code",
   "execution_count": 165,
   "metadata": {
    "metadata": {}
   },
   "outputs": [],
   "source": [
    "\n",
    "np.savetxt(r'D:\\20240412\\nm\\raw\\raw' + '\\\\' + 'RSD.csv',np.vstack((RSD,mean)).T,delimiter=',',fmt = '%s')"
   ]
  }
 ],
 "metadata": {
  "kernelspec": {
   "display_name": "ten",
   "language": "python",
   "name": "python3"
  },
  "language_info": {
   "codemirror_mode": {
    "name": "ipython",
    "version": 3
   },
   "file_extension": ".py",
   "mimetype": "text/x-python",
   "name": "python",
   "nbconvert_exporter": "python",
   "pygments_lexer": "ipython3",
   "version": "3.10.12"
  }
 },
 "nbformat": 4,
 "nbformat_minor": 2
}
