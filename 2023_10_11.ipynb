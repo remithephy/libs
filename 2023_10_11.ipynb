{
 "cells": [
  {
   "cell_type": "code",
   "execution_count": 1,
   "metadata": {},
   "outputs": [],
   "source": [
    "\n",
    "import file_tool as ft\n",
    "import numpy as np\n",
    "import preprocessing as pp\n",
    "'''\n",
    "记得文件夹要用数字命名\n",
    "'''\n",
    "################cache/需要改的\n",
    "slice_ = []\n",
    "conc = []\n",
    "np.set_printoptions(precision = 6)\n",
    "\n",
    "peak_list = [416.595154,413.798187,412.774506,456.283783]##############peak position\n",
    "tol = 1#算峰面积的容差\n",
    "\n",
    "##################path##########################\n",
    "filename = r'D:\\20230816\\20230816下午oldltb'#file position\n",
    "##################load#########################\n",
    "samples=ft.Load_Spectral_of_All_Samples_Df(filename)\n",
    "#samples[i][j] i = sample_number ,j = 1 -> wavelength,j = 2 -> spectrum,j = 3 -> filename\n",
    "mean_spec = [np.mean(samples[i][2],axis = 1) for i in range(len(samples))]\n",
    "p,m,peak_list = pp.Peak_integrate(samples[1][1],mean_spec[0],peak_list,tol)\n",
    "\n",
    "\n",
    "##################calculate#####################\n",
    "for i in range(len(samples)):\n",
    "    for j in range(len(peak_list)):#pm wavelength\n",
    "        if j == 0:\n",
    "            slice_ = ((samples[i][2][peak_list[j] - m[j]:peak_list[j] + p[j],:]).sum(axis=0))\n",
    "        else:\n",
    "            slice_ = np.vstack((slice_,((samples[i][2][peak_list[j] - m[j]:peak_list[j] + p[j],:]).sum(axis=0))))\n",
    "    \n",
    "    np.savetxt(filename +'\\\\'+samples[i][0] + 'calculate.csv',slice_.T,delimiter=',',fmt='%.04f')\n",
    "    slice_ = []"
   ]
  }
 ],
 "metadata": {
  "kernelspec": {
   "display_name": "ten",
   "language": "python",
   "name": "python3"
  },
  "language_info": {
   "codemirror_mode": {
    "name": "ipython",
    "version": 3
   },
   "file_extension": ".py",
   "mimetype": "text/x-python",
   "name": "python",
   "nbconvert_exporter": "python",
   "pygments_lexer": "ipython3",
   "version": "3.10.12"
  }
 },
 "nbformat": 4,
 "nbformat_minor": 2
}
