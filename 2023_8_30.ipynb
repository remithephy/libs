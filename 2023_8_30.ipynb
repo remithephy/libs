{
 "cells": [
  {
   "cell_type": "code",
   "execution_count": 1,
   "metadata": {},
   "outputs": [],
   "source": [
    "#aim:随机抽样，写个自助法"
   ]
  },
  {
   "cell_type": "code",
   "execution_count": 11,
   "metadata": {},
   "outputs": [],
   "source": [
    "import numpy as np\n",
    "import file_tool as ft\n",
    "import torch\n",
    "import os\n",
    "import preprocessing as pp\n",
    "\n",
    "wl_path = r'D:\\20230816\\数据汇总\\新LTB\\ML\\切片后La小模型\\select_wave_20.csv'\n",
    "origin_path = r'D:\\20230816\\数据汇总\\新LTB\\origin\\sliced\\2.csv_sliced.csv_ave.csv'\n",
    "percision = 4\n",
    "a = pp.find_selected_spec(wl_path,origin_path,percision)#学习后已知选择波长，找光谱\n",
    "\n"
   ]
  },
  {
   "cell_type": "code",
   "execution_count": 13,
   "metadata": {},
   "outputs": [],
   "source": [
    "\n",
    "np.savetxt(r'D:\\20230816\\数据汇总\\新LTB\\ML\\切片后La小模型\\select_spec_20.csv',a,delimiter=',',fmt='%.06f')"
   ]
  },
  {
   "cell_type": "code",
   "execution_count": 2,
   "metadata": {},
   "outputs": [],
   "source": [
    "import numpy as np\n",
    "import file_tool as ft\n",
    "import os\n",
    "\n",
    "namelist = []\n",
    "path = r'D:\\20230816\\数据汇总\\新LTB\\origin'\n",
    "for name in os.listdir(path):\n",
    "    if name.endswith(\".csv\"):\n",
    "        namelist.append(path + '//' + name)\n",
    "\n",
    "for names in namelist:\n",
    "    wl,spec = ft.Load_MultiSpec(names)\n",
    "    if names == namelist[0]:\n",
    "        spec1 = spec.T\n",
    "    else:\n",
    "        spec1 = np.vstack((spec1,spec.T))\n",
    "np.savetxt(path + 'all.csv',spec1,delimiter=',',fmt='%.06f')"
   ]
  },
  {
   "cell_type": "code",
   "execution_count": 19,
   "metadata": {},
   "outputs": [],
   "source": [
    "import pandas as pd\n",
    "import numpy as np\n",
    "import random as rd"
   ]
  },
  {
   "cell_type": "code",
   "execution_count": 34,
   "metadata": {},
   "outputs": [],
   "source": [
    "mean_num = 20\n",
    "spec_num = 120\n",
    "start = 0\n",
    "end = 147"
   ]
  },
  {
   "cell_type": "code",
   "execution_count": 17,
   "metadata": {},
   "outputs": [],
   "source": [
    "#无放回抽样\n",
    "all_feat = pd.read_csv(r'D:\\20230816\\数据汇总\\新LTB\\ML\\all_feat.csv', header=None).values.astype(np.float32)\n"
   ]
  },
  {
   "cell_type": "code",
   "execution_count": 38,
   "metadata": {},
   "outputs": [],
   "source": [
    "#all_feat1 = all_feat[start:end,:]#自定义索引\n",
    "random_list = [i for i in range(start,end)]\n",
    "for i in range(0,spec_num):    \n",
    "    random_index = np.random.choice(random_list,mean_num)\n",
    "    if i == 0:\n",
    "        mean_feat = np.mean(all_feat[random_index],axis = 0)\n",
    "    else:\n",
    "        mean_feat = np.vstack((mean_feat,np.mean(all_feat[random_index],axis = 0)))"
   ]
  },
  {
   "cell_type": "code",
   "execution_count": 20,
   "metadata": {},
   "outputs": [],
   "source": []
  },
  {
   "cell_type": "code",
   "execution_count": 29,
   "metadata": {},
   "outputs": [
    {
     "ename": "AttributeError",
     "evalue": "'numpy.ndarray' object has no attribute 'append'",
     "output_type": "error",
     "traceback": [
      "\u001b[1;31m---------------------------------------------------------------------------\u001b[0m",
      "\u001b[1;31mAttributeError\u001b[0m                            Traceback (most recent call last)",
      "Cell \u001b[1;32mIn[29], line 1\u001b[0m\n\u001b[1;32m----> 1\u001b[0m mean_feat\u001b[39m.\u001b[39;49mappend \u001b[39m=\u001b[39m np\u001b[39m.\u001b[39mmean(all_feat[random_index],axis \u001b[39m=\u001b[39m \u001b[39m0\u001b[39m)\n",
      "\u001b[1;31mAttributeError\u001b[0m: 'numpy.ndarray' object has no attribute 'append'"
     ]
    }
   ],
   "source": []
  }
 ],
 "metadata": {
  "kernelspec": {
   "display_name": "ten",
   "language": "python",
   "name": "python3"
  },
  "language_info": {
   "codemirror_mode": {
    "name": "ipython",
    "version": 3
   },
   "file_extension": ".py",
   "mimetype": "text/x-python",
   "name": "python",
   "nbconvert_exporter": "python",
   "pygments_lexer": "ipython3",
   "version": "3.10.12"
  },
  "orig_nbformat": 4
 },
 "nbformat": 4,
 "nbformat_minor": 2
}
