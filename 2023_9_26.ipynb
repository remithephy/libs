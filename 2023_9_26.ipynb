{
 "cells": [
  {
   "cell_type": "code",
   "execution_count": 48,
   "metadata": {},
   "outputs": [
    {
     "name": "stderr",
     "output_type": "stream",
     "text": [
      "C:\\Users\\0\\AppData\\Local\\Temp\\ipykernel_10728\\635706224.py:18: DtypeWarning: Columns (0,1,2,3,4,5,6,7,8,9,10,11,12,13,14,15,16,17,18,19,20,21,22,23,24,25,26,27,28,29,30,31,32,33,34,35,36,37,38,39,40,41,42,43,44,45,46,47,48,49,50,51,52,53,54,55,56,57,58,59,60,61,62,63,64,65,66,67,68,69,70,71,72,73,74,75,76,77,78,79,80,81,82,83,84,85,86,87,88,89,90,91,92,93,94,95,96,97,98,99,100) have mixed types. Specify dtype option on import or set low_memory=False.\n",
      "  all_lab = pd.read_csv(path, header=None)\n"
     ]
    },
    {
     "name": "stdout",
     "output_type": "stream",
     "text": [
      "0 9\n",
      "10 19\n",
      "20 29\n",
      "30 39\n",
      "40 49\n",
      "50 59\n",
      "60 69\n",
      "70 79\n",
      "80 89\n",
      "90 99\n"
     ]
    }
   ],
   "source": [
    "'''\n",
    ":@Author: Remi\n",
    ":@Date: 2023/9/13 08:21:53\n",
    ":@LastEditors: Remi\n",
    ":@LastEditTime: 2023/9/13 08:21:53\n",
    ":Description: \n",
    "'''\n",
    "\n",
    "import numpy as np\n",
    "import pandas as pd\n",
    "import preprocessing as pp\n",
    "\n",
    "\n",
    "\n",
    "name = '11'\n",
    "path = r'D:\\20230926\\1\\111.csv'\n",
    "save_path = r'D:\\20230926'\n",
    "all_lab = pd.read_csv(path, header=None)\n",
    "all_lab = all_lab.drop(all_lab.index[[1,2,3,4,5]])\n",
    "all_lab = all_lab.drop(all_lab.index[[0]])\n",
    "wavelength = np.array(([all_lab.iloc[:,0].values.astype(float)])).T\n",
    "all_lab.drop(columns=[0],inplace=True)\n",
    "spec = all_lab.values.astype(float)\n",
    "mean_spec = np.array(([np.mean(spec,axis=1)])).T\n",
    "np.savetxt(save_path +'\\\\' + name + '_mean.csv',np.hstack((wavelength,mean_spec)),delimiter=',',fmt='%.06f')\n",
    "length = len(spec[0][:])\n",
    "step = int(len(spec[0][:])/10)\n",
    "mean = np.zeros(10)\n",
    "for i in range(10):\n",
    "    print(i*step,(i+1)*step - 1)\n",
    "    mean[i] = np.mean(spec[11543,i*step:(i+1)*step -1])\n",
    "rsd = np.array(pp.RSD_calculate(mean,10))\n",
    "#对除第一列的每列标准化\n",
    "All_Spec = []\n",
    "for i in range(length):\n",
    "    sp2 = spec[:,i:i+1]\n",
    "    #sp2 = pp.Normalization(sp2,method='Peak_intensity',)\n",
    "    sp2 = pp.Normalization(sp2,method='total_intensity')\n",
    "    if i == 0:\n",
    "        All_Spec = sp2    \n",
    "    else:\n",
    "        All_Spec = np.hstack((All_Spec,sp2))\n",
    "mean_normalized = np.zeros(10)\n",
    "for i in range(10):\n",
    "    mean_normalized[i] = np.mean(All_Spec[11543,i*step:(i+1)*step -1])\n",
    "rsd_norm = np.array(pp.RSD_calculate(mean_normalized,10))\n",
    "rsd = np.array(([np.array(([rsd])).T])).T\n",
    "rsd_norm = np.array(([np.array(([rsd_norm])).T])).T\n",
    "mean = np.array(([mean])).T\n",
    "mean_normalized = np.array(([mean_normalized])).T\n",
    "real = np.vstack((rsd,mean))\n",
    "norm = np.vstack((rsd_norm,mean_normalized))\n",
    "np.savetxt(save_path +'\\\\' + name + '.csv',np.hstack((real,norm)),delimiter=',',fmt='%.06f')"
   ]
  }
 ],
 "metadata": {
  "kernelspec": {
   "display_name": "ten",
   "language": "python",
   "name": "python3"
  },
  "language_info": {
   "codemirror_mode": {
    "name": "ipython",
    "version": 3
   },
   "file_extension": ".py",
   "mimetype": "text/x-python",
   "name": "python",
   "nbconvert_exporter": "python",
   "pygments_lexer": "ipython3",
   "version": "3.10.12"
  },
  "orig_nbformat": 4
 },
 "nbformat": 4,
 "nbformat_minor": 2
}
