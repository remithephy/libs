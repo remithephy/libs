{
 "cells": [
  {
   "cell_type": "code",
   "execution_count": 1,
   "metadata": {
    "metadata": {}
   },
   "outputs": [
    {
     "name": "stdout",
     "output_type": "stream",
     "text": [
      "视频已保存为 output_video.mp4\n"
     ]
    }
   ],
   "source": [
    "import cv2\n",
    "import os\n",
    "import re\n",
    "\n",
    "# 图片所在文件夹路径\n",
    "image_folder = r'D:\\remi\\REMI\\sheath\\absorb'  # 替换为图片文件夹的路径\n",
    "video_name = 'output_video.mp4'\n",
    "\n",
    "# 获取图片列表并排序\n",
    "def extract_step_number(filename):\n",
    "    match = re.search(r'(\\d+)\\.png$', filename)\n",
    "    if match:\n",
    "        return int(match.group(1))\n",
    "    return float('inf')  # 如果无法匹配，返回无穷大，使其排到最后\n",
    "\n",
    "images = [img for img in os.listdir(image_folder) if img.endswith(\".png\")]\n",
    "images.sort(key=extract_step_number)  # 按step编号排序\n",
    "\n",
    "# 确定图片尺寸（假设所有图片尺寸一致）\n",
    "frame = cv2.imread(os.path.join(image_folder, images[0]))\n",
    "height, width, layers = frame.shape\n",
    "\n",
    "# 创建视频写入对象\n",
    "fourcc = cv2.VideoWriter_fourcc(*'mp4v')  # 或者使用 *'XVID' 或 *'X264' 等编码格式\n",
    "video = cv2.VideoWriter(image_folder + '\\\\' + video_name, fourcc, 10, (width, height))\n",
    "\n",
    "# 逐帧写入视频\n",
    "for image in images:\n",
    "    img_path = os.path.join(image_folder, image)\n",
    "    video.write(cv2.imread(img_path))\n",
    "\n",
    "# 释放视频写入对象\n",
    "video.release()\n",
    "\n",
    "print(f'视频已保存为 {video_name}')\n"
   ]
  }
 ],
 "metadata": {
  "kernelspec": {
   "display_name": "ten",
   "language": "python",
   "name": "python3"
  },
  "language_info": {
   "codemirror_mode": {
    "name": "ipython",
    "version": 3
   },
   "file_extension": ".py",
   "mimetype": "text/x-python",
   "name": "python",
   "nbconvert_exporter": "python",
   "pygments_lexer": "ipython3",
   "version": "3.10.12"
  }
 },
 "nbformat": 4,
 "nbformat_minor": 2
}
