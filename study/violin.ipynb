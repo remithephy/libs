{
 "cells": [
  {
   "cell_type": "code",
   "execution_count": 1,
   "metadata": {
    "metadata": {}
   },
   "outputs": [],
   "source": [
    "import os\n",
    "\n",
    "import numpy as np\n",
    "import pandas as pd\n",
    "\n",
    "from sklearn.metrics import mean_squared_error, r2_score,mean_absolute_error\n",
    "import matplotlib.pyplot as plt\n",
    "from random import sample\n"
   ]
  },
  {
   "cell_type": "code",
   "execution_count": 2,
   "metadata": {
    "metadata": {}
   },
   "outputs": [],
   "source": [
    "def find_file(dirpath,postfix):\n",
    "        \n",
    "    path_list = []\n",
    "\n",
    "    name_list = os.listdir(dirpath)\n",
    "\n",
    "    for names in name_list:\n",
    "        if names.endswith(postfix):\n",
    "            path_list.append(dirpath+'\\\\'+names) \n",
    "\n",
    "    return path_list\n",
    "\n",
    "path = r'D:\\20240412\\all_result'\n",
    "save_path = r'D:\\20240412\\all_result\\save'\n",
    "path_list = find_file(path,'.csv')\n",
    "filenames = [os.path.basename(path_list[i])[:-4] for i in range(len(path_list))]####保留文件名\n",
    "#test_index = [50,200,700]\n",
    "test_index = [10,30,50,70,110,150,200,250,300,400,500,700,1000]\n",
    "\n",
    "names = path_list[2]\n",
    "data = pd.read_csv(names,header=None).values.astype(float)\n",
    "Y = data[:,0]\n",
    "Ypredict = data[:,1]\n",
    "unique_lab= np.unique(Y)\n",
    "\n",
    "all_rmse = []\n",
    "for names,filename in zip(path_list,filenames):\n",
    "    data = pd.read_csv(names,header=None).values.astype(float)\n",
    "    Y = data[:,0]\n",
    "    Ypredict = data[:,1]\n",
    "\n",
    "    for indexs in test_index:\n",
    "        rmse = []\n",
    "        index = np.where(np.isin(Y,indexs))[0].tolist()\n",
    "        sample_rate = int(len(index)/5)###每次抽样数\n",
    "        for i in range(10):\n",
    "            index_set = sample(index,sample_rate)\n",
    "            rmse.append(np.sqrt(mean_squared_error(Y[index_set],Ypredict[index_set])))\n",
    "            \n",
    "        rmse = np.hstack((indexs,np.array(rmse)))\n",
    "        all_rmse.append(np.hstack((filename,rmse)))"
   ]
  },
  {
   "cell_type": "code",
   "execution_count": 3,
   "metadata": {
    "metadata": {}
   },
   "outputs": [],
   "source": [
    "all_mae = []\n",
    "for names,filename in zip(path_list,filenames):\n",
    "    data = pd.read_csv(names,header=None).values.astype(float)\n",
    "    Y = data[:,0]\n",
    "    Ypredict = data[:,1]\n",
    "\n",
    "    for indexs in test_index:\n",
    "        mae = []\n",
    "        index = np.where(np.isin(Y,indexs))[0].tolist()\n",
    "        sample_rate = int(len(index)/5)###每次抽样数\n",
    "\n",
    "        for i in range(10):\n",
    "            index_set = sample(index,sample_rate)\n",
    "            mae.append(mean_absolute_error(Y[index_set],Ypredict[index_set]))\n",
    "            #########################################################################\n",
    "        mae = np.hstack((indexs,np.array(mae)))\n",
    "        all_mae.append(np.hstack((filename,mae)))"
   ]
  },
  {
   "cell_type": "code",
   "execution_count": 4,
   "metadata": {
    "metadata": {}
   },
   "outputs": [],
   "source": [
    "\n",
    "np.savetxt(save_path + '//' + 'all_rmse.csv',np.array(all_rmse).T,delimiter=',',fmt='%s')\n",
    "\n",
    "np.savetxt(save_path + '//' + 'all_mae.csv',np.array(all_mae).T,delimiter=',',fmt='%s')"
   ]
  }
 ],
 "metadata": {
  "kernelspec": {
   "display_name": "ten",
   "language": "python",
   "name": "python3"
  },
  "language_info": {
   "codemirror_mode": {
    "name": "ipython",
    "version": 3
   },
   "file_extension": ".py",
   "mimetype": "text/x-python",
   "name": "python",
   "nbconvert_exporter": "python",
   "pygments_lexer": "ipython3",
   "version": "3.10.12"
  }
 },
 "nbformat": 4,
 "nbformat_minor": 2
}
