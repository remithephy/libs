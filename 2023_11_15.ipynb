{
 "cells": [
  {
   "cell_type": "code",
   "execution_count": 6,
   "metadata": {},
   "outputs": [],
   "source": [
    "'''\n",
    ":@Author: Remi\n",
    ":@Date: 2023/9/13 08:21:53\n",
    ":@LastEditors: Remi\n",
    ":@LastEditTime: 2023/10/19 20:07:26\n",
    ":Description: \n",
    "'''\n",
    "import numpy as np\n",
    "import preprocessing as pp\n",
    "import file_tool as ft\n",
    "import pandas as pd\n",
    "\n",
    "path = r'D:\\20231114\\para'\n",
    "path_list = ft.find_file(path,'i.csv')\n",
    "spec1 = np.zeros(12288)\n",
    "########弄个平均谱来确定峰位置\n",
    "for paths in path_list:\n",
    "    wl,spec = ft.Load_Spectral_Df(paths)\n",
    "    spec1 = spec1 + spec\n",
    "\n",
    "tol_list = [0,0]#峰值和峰面积\n",
    "iter1 = 0\n",
    "##################写个df存数据\n",
    "df = pd.DataFrame()\n",
    "df[0] = path_list\n",
    "\n",
    "\n",
    "for tol in tol_list:\n",
    "    #print(pp.Peak_integrate(wl,spec,[777.257],tol))\n",
    "    p,m,list = pp.Peak_integrate(wl,spec1,[656.302,777.257],tol)\n",
    "\n",
    "    iter1 += 1\n",
    "    H_int = []\n",
    "    O_int = []\n",
    "\n",
    "    for paths in path_list:\n",
    "\n",
    "        wl,spec = ft.Load_Spectral_Df(paths)\n",
    "        for i in range(len(list)-1):\n",
    "            H_int.append(np.sum(spec[list[i]-m[i]:list[i]+p[i]]))\n",
    "            O_int.append(np.sum(spec[list[i+1]-m[i+1]:list[i+1]+p[i+1]]))\n",
    "    df[iter1] = [H_int[i]/O_int[i] for i in range(len(H_int))]"
   ]
  },
  {
   "cell_type": "code",
   "execution_count": 7,
   "metadata": {},
   "outputs": [],
   "source": [
    "###存一下数据\n",
    "df.to_csv(path + '\\\\' + 'all.csv',sep = ',')"
   ]
  }
 ],
 "metadata": {
  "kernelspec": {
   "display_name": "ten",
   "language": "python",
   "name": "python3"
  },
  "language_info": {
   "codemirror_mode": {
    "name": "ipython",
    "version": 3
   },
   "file_extension": ".py",
   "mimetype": "text/x-python",
   "name": "python",
   "nbconvert_exporter": "python",
   "pygments_lexer": "ipython3",
   "version": "3.10.12"
  }
 },
 "nbformat": 4,
 "nbformat_minor": 2
}
