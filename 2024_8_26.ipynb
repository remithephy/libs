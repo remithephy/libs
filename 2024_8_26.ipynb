{
 "cells": [
  {
   "cell_type": "code",
   "execution_count": 1,
   "metadata": {
    "metadata": {}
   },
   "outputs": [],
   "source": [
    "\n",
    "'''\n",
    ":@Author: Remi\n",
    ":@Date: 2023/9/13 08:21:53\n",
    ":@LastEditors: Remi\n",
    ":@LastEditTime: 2023/9/13 08:21:53\n",
    ":Description: \n",
    "'''\n",
    "\n",
    "import seaborn as sns\n",
    "import numpy as np\n",
    "import pandas as pd\n",
    "from matplotlib.colors import ListedColormap\n",
    "import matplotlib as mpl\n",
    "import matplotlib.pyplot as plt\n",
    "\n",
    "signal_path = r'D:\\20240411\\mean_spec\\signal.csv'\n",
    "snr_path = r'D:\\20240411\\mean_spec\\SNR.csv'\n",
    "\n",
    "signal = pd.read_csv(signal_path, header=0,index_col= 0)\n",
    "snr = pd.read_csv(snr_path, header=0,index_col= 0)\n",
    "\n"
   ]
  },
  {
   "cell_type": "code",
   "execution_count": null,
   "metadata": {},
   "outputs": [],
   "source": [
    "\n",
    "cmap=mpl.cm.RdYlBu_r#获取色条\n",
    "newcolors=cmap(np.linspace(0,1,256))#分片操作\n",
    "newcmap=ListedColormap(newcolors[100:])#只取100之后的颜色列表，前面的舍去\n",
    "\n",
    "plt.figure(1)\n",
    "sns.set_theme(font_scale=1.5)\n",
    "sns.set_context({\"figure.figsize\":(8,8)})\n",
    "sns.heatmap(data=signal,square=True, cmap=newcmap,vmin=10, vmax=400).set_title('signal')\n",
    "plt.show()\n",
    "\n",
    "plt.figure(2)\n",
    "sns.set_theme(font_scale=1.5)\n",
    "sns.set_context({\"figure.figsize\":(8,8)})\n",
    "sns.heatmap(data=snr,square=True, cmap=newcmap,vmin=0, vmax=25).set_title('snr')\n",
    "plt.show()"
   ]
  }
 ],
 "metadata": {
  "kernelspec": {
   "display_name": "ten",
   "language": "python",
   "name": "python3"
  },
  "language_info": {
   "codemirror_mode": {
    "name": "ipython",
    "version": 3
   },
   "file_extension": ".py",
   "mimetype": "text/x-python",
   "name": "python",
   "nbconvert_exporter": "python",
   "pygments_lexer": "ipython3",
   "version": "3.10.12"
  }
 },
 "nbformat": 4,
 "nbformat_minor": 2
}
