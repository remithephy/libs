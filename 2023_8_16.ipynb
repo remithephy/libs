{
 "cells": [
  {
   "cell_type": "code",
   "execution_count": 1,
   "metadata": {},
   "outputs": [],
   "source": [
    "import file_tool as ft\n",
    "import numpy as np\n",
    "import os"
   ]
  },
  {
   "cell_type": "code",
   "execution_count": 2,
   "metadata": {},
   "outputs": [],
   "source": [
    "dirpath = r'D:\\20230816\\LTB\\Ce\\canshuyouhua\\DIS'\n",
    "name_list=[]\n",
    "samples = ft.Load_Spectral_of_All_Samples_Df(dirpath)"
   ]
  },
  {
   "cell_type": "code",
   "execution_count": 3,
   "metadata": {},
   "outputs": [],
   "source": [
    "WL = samples[0][1]\n",
    "Spec = samples[0][2]"
   ]
  },
  {
   "cell_type": "code",
   "execution_count": 4,
   "metadata": {},
   "outputs": [],
   "source": [
    "mylist= os.listdir(dirpath)\n",
    "for name in mylist:\n",
    "    #这里只是一个相对路径\n",
    "    name_list.append(dirpath+'\\\\'+name) \n",
    "    name = os.path.join(dirpath,name)\n"
   ]
  },
  {
   "cell_type": "code",
   "execution_count": 10,
   "metadata": {},
   "outputs": [],
   "source": [
    "for i in range(len(name_list)):\n",
    "    np.savetxt(name_list[i] +'\\\\'+mylist[i]+'.csv',np.hstack((np.array(([np.mean(samples[i][2],axis=1)])).T,np.hstack((np.array(([samples[i][1]])).T,samples[i][2])))),delimiter=' ',fmt='%.06f')"
   ]
  }
 ],
 "metadata": {
  "kernelspec": {
   "display_name": "ten",
   "language": "python",
   "name": "python3"
  },
  "language_info": {
   "codemirror_mode": {
    "name": "ipython",
    "version": 3
   },
   "file_extension": ".py",
   "mimetype": "text/x-python",
   "name": "python",
   "nbconvert_exporter": "python",
   "pygments_lexer": "ipython3",
   "version": "3.10.12"
  },
  "orig_nbformat": 4
 },
 "nbformat": 4,
 "nbformat_minor": 2
}
