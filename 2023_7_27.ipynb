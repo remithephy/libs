{
 "cells": [
  {
   "cell_type": "code",
   "execution_count": 3,
   "metadata": {},
   "outputs": [],
   "source": [
    "import file_tool as ft\n",
    "import numpy as np \n",
    "import pandas as pd"
   ]
  },
  {
   "cell_type": "code",
   "execution_count": 2,
   "metadata": {},
   "outputs": [],
   "source": [
    "path = r'D:\\20230816\\数据汇总\\新LTB\\ML\\line.csv'\n",
    "savepath = r'D:\\20230816\\数据汇总\\新LTB\\ML\\all_lab.csv'"
   ]
  },
  {
   "cell_type": "code",
   "execution_count": 6,
   "metadata": {},
   "outputs": [],
   "source": [
    "\n",
    "lable = pd.read_csv(path,sep = ',',header=None).to_numpy()\n",
    "lable_iter = 0\n",
    "pos = np.where(lable == 'number')[0][0]\n",
    "lab_num = lable[pos][1:].astype(int)\n",
    "feat = np.zeros((np.sum(lab_num),pos))\n",
    "    "
   ]
  },
  {
   "cell_type": "code",
   "execution_count": null,
   "metadata": {},
   "outputs": [],
   "source": [
    "for length,j in zip(lab_num,range(len(lab_num))):\n",
    "        for i in range(pos):\n",
    "            feat[lable_iter:(lable_iter + length), i ] = lable[i,j+1]\n",
    "        lable_iter += length\n",
    "    return feat"
   ]
  },
  {
   "cell_type": "code",
   "execution_count": null,
   "metadata": {},
   "outputs": [],
   "source": [
    "def Peak_integrate(wavelength,spec,aim_peak):\n",
    "    #aim_peak 是一个list或者array\n",
    "    p = []\n",
    "    m = []\n",
    "    if isinstance(aim_peak,list):\n",
    "        aim_peak_arr = np.asarray(aim_peak)\n",
    "        return Peak_integrate(wavelength,spec,aim_peak_arr)\n",
    "    elif isinstance(aim_peak,np.ndarray):\n",
    "        WL_list = np.where(np.isin(wavelength,aim_peak))[0]\n",
    "        for i in range(len(WL_list)):\n",
    "        #设定容错为3寻找最小值\n",
    "            p.append(step('right',WL_list[i],spec,2))\n",
    "            m.append(step('left',WL_list[i],spec,2))\n",
    "        return p,m,aim_peak\n",
    "    else:\n",
    "        print('aim_peak must be a list or array')\n",
    "        return\n",
    "    \n",
    "def step(direct,peak,spec,step):\n",
    "    if direct == 'right' :\n",
    "        i = peak\n",
    "        origin_val = spec[peak]\n",
    "        min_val = spec[peak+1]\n",
    "        while  origin_val != min_val:\n",
    "            i = i + step\n",
    "            origin_val = min_val\n",
    "            min_val = np.min(spec[peak+1:i+1])\n",
    "        return (np.where(np.isin(spec[peak+1:i+1],min_val))[0][0] + 1)\n",
    "    elif direct == 'left' :  \n",
    "        i = peak\n",
    "        origin_val = spec[peak]\n",
    "        min_val = spec[peak-1]\n",
    "        while  origin_val != min_val:\n",
    "            i = i - step\n",
    "            origin_val = min_val\n",
    "            min_val = np.min(spec[i-1:peak-1])\n",
    "            slide = spec[i:peak]\n",
    "        return (np.where(np.isin(slide[::-1],min_val))[0][0])        \n",
    "    else:\n",
    "        print('no direction in Peak_integrate')\n",
    "        return   \n"
   ]
  },
  {
   "cell_type": "code",
   "execution_count": null,
   "metadata": {},
   "outputs": [],
   "source": [
    "wavelength,spec = ft.Load_Spectral_Df(r'D:\\LIBS_Data_Processing_Packge\\DemoData_remi\\test\\1\\1_001.txt')\n",
    "aim_peak = [521.804932,588.984863,396.833893]\n",
    "print(Peak_integrate(wavelength,spec,aim_peak))"
   ]
  },
  {
   "cell_type": "code",
   "execution_count": null,
   "metadata": {},
   "outputs": [],
   "source": [
    "WL_list = np.where(np.isin(wavelength,aim_peak))\n",
    "peak = WL_list[0][0]\n",
    "i = peak\n",
    "origin_val = spec[peak]\n",
    "min_val = spec[peak+1]\n",
    "while  origin_val != min_val:\n",
    "    i = i + 3\n",
    "    origin_val = min_val\n",
    "    min_val = np.min(spec[peak:i])"
   ]
  }
 ],
 "metadata": {
  "kernelspec": {
   "display_name": "ten",
   "language": "python",
   "name": "python3"
  },
  "language_info": {
   "codemirror_mode": {
    "name": "ipython",
    "version": 3
   },
   "file_extension": ".py",
   "mimetype": "text/x-python",
   "name": "python",
   "nbconvert_exporter": "python",
   "pygments_lexer": "ipython3",
   "version": "3.10.12"
  },
  "orig_nbformat": 4
 },
 "nbformat": 4,
 "nbformat_minor": 2
}
