{
 "cells": [
  {
   "cell_type": "code",
   "execution_count": 1,
   "metadata": {},
   "outputs": [],
   "source": [
    "'''\n",
    ":@Author: Remi\n",
    ":@Date: 2023/8/16 13:29:14\n",
    ":@LastEditors: Remi\n",
    ":@LastEditTime: 2023/8/16 13:29:14\n",
    ":Description: \n",
    "'''\n",
    "import file_tool as ft\n",
    "import preprocessing as pp\n",
    "import numpy as np\n",
    "import os\n",
    "dirpath = r'D:\\20230911\\para_fit'\n",
    "name_list=[]\n",
    "#路径和名字\n",
    "samples = ft.Load_Spectral_of_All_Samples_Df(dirpath)\n",
    "mylist= os.listdir(dirpath)\n",
    "\n",
    "for name in mylist:\n",
    "    #这里只是一个相对路径\n",
    "    name_list.append(dirpath+'\\\\'+name) \n",
    "    name = os.path.join(dirpath,name)\n",
    "\n",
    "for i in range(len(samples)):   \n",
    "    samples[i][2] = pp.Anomalous_spectrum_removal(samples[i][2])\n",
    "#for i in range(len(name_list)):\n",
    "#    np.savetxt(name_list[i] +'\\\\'+mylist[i]+'.csv',np.hstack((np.array(([samples[i][1]])).T,samples[i][2])),delimiter=',',fmt='%.06f')\n",
    "#求均值\n",
    "for i in range(len(name_list)):\n",
    "   np.savetxt(name_list[i] +'\\\\'+mylist[i]+'.csv',np.hstack((np.array(([np.mean(samples[i][2],axis=1)])).T,np.hstack((np.array(([samples[i][1]])).T,samples[i][2])))),delimiter=',',fmt='%.06f')    \n",
    "#只求均值\n",
    "#for i in range(len(name_list)):\n",
    "#    np.savetxt(dirpath +'\\\\'+mylist[i]+'_ave.csv',np.hstack((np.array(([samples[i][1]])).T,(np.array(([np.mean(samples[i][2],axis=1)])).T))),delimiter=',',fmt='%.06f')"
   ]
  }
 ],
 "metadata": {
  "kernelspec": {
   "display_name": "ten",
   "language": "python",
   "name": "python3"
  },
  "language_info": {
   "codemirror_mode": {
    "name": "ipython",
    "version": 3
   },
   "file_extension": ".py",
   "mimetype": "text/x-python",
   "name": "python",
   "nbconvert_exporter": "python",
   "pygments_lexer": "ipython3",
   "version": "3.10.12"
  },
  "orig_nbformat": 4
 },
 "nbformat": 4,
 "nbformat_minor": 2
}
